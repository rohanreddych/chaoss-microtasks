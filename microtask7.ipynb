{
 "cells": [
  {
   "cell_type": "markdown",
   "metadata": {},
   "source": [
    "# Create a script that can parse the gitdm developer affiliation files and load the data in a SortingHat database using GraphQL."
   ]
  },
  {
   "cell_type": "markdown",
   "metadata": {},
   "source": [
    "I obtained the gitdm file from [github.com/cncf/gitdm/developers_affiliations1.txt](https://github.com/cncf/gitdm/blob/master/developers_affiliations1.txt)"
   ]
  },
  {
   "cell_type": "code",
   "execution_count": null,
   "metadata": {},
   "outputs": [],
   "source": [
    "f = open(\"developer.txt\",\"r\")\n",
    "content = f.read()"
   ]
  },
  {
   "cell_type": "code",
   "execution_count": null,
   "metadata": {
    "scrolled": false
   },
   "outputs": [],
   "source": [
    "content[:100]"
   ]
  },
  {
   "cell_type": "code",
   "execution_count": null,
   "metadata": {},
   "outputs": [],
   "source": [
    "content.replace(\"\\n\\t\",\"\\t\").split(\"\\n\")"
   ]
  },
  {
   "cell_type": "code",
   "execution_count": null,
   "metadata": {},
   "outputs": [],
   "source": [
    "c = content.replace(\"\\n\\t\", \"\\t\")"
   ]
  },
  {
   "cell_type": "code",
   "execution_count": null,
   "metadata": {},
   "outputs": [],
   "source": [
    "c = c.split(\"\\n\")"
   ]
  },
  {
   "cell_type": "code",
   "execution_count": null,
   "metadata": {},
   "outputs": [],
   "source": [
    "c = c[7:]"
   ]
  },
  {
   "cell_type": "code",
   "execution_count": null,
   "metadata": {},
   "outputs": [],
   "source": [
    "k = [i.split(\"\\t\") for i in c]"
   ]
  },
  {
   "cell_type": "code",
   "execution_count": null,
   "metadata": {},
   "outputs": [],
   "source": [
    "# remove the comments, lines starting with # hashtag symbol \n",
    "#c = c[1:]"
   ]
  },
  {
   "cell_type": "code",
   "execution_count": null,
   "metadata": {},
   "outputs": [],
   "source": [
    "for i in k:\n",
    "    print(\"name  \",i[0].split(\":\")[0])\n",
    "    print(\"emails  \",i[0].split(\":\")[1])\n",
    "    print(\"organisations \",i[1:])"
   ]
  },
  {
   "cell_type": "code",
   "execution_count": null,
   "metadata": {},
   "outputs": [],
   "source": [
    "import requests\n",
    "query = \"\"\"\n",
    "    mutation addIdentity(name:$name, email:$email, source:$source,username:$username){\n",
    "        uuid\n",
    "    }\n",
    "\"\"\"\n",
    "\n",
    "for i in k:\n",
    "    url = \"http://localhost:8000/graphql/\"\n",
    "    try:\n",
    "        data = {\"email\":i[0].split(\":\")[1].split(\",\")[0],\"name\":i[0].split(\":\")[0],\"source\":\"git\", \"username\":i[0].split(\":\")[0]}\n",
    "    except IndexError:\n",
    "        data = {\"email\":\"na\",\"name\":i[0].split(\":\")[0],\"source\":\"git\", \"username\":i[0].split(\":\")[0]}\n",
    "    res = requests.post(url, json={'query': query, 'variables': data})\n",
    "    \n",
    "    if (res.status_code != 200):\n",
    "        print(\"error \")\n",
    "        print(res.text)\n",
    "        break\n",
    "    "
   ]
  },
  {
   "cell_type": "code",
   "execution_count": null,
   "metadata": {},
   "outputs": [],
   "source": [
    "# currently gives 403 request code, because django security validation. \n",
    "# if we include this in urls in django we can successfully exeute url(r'^graphql', csrf_exempt(GraphQLView.as_view(graphiql=True))),"
   ]
  },
  {
   "cell_type": "code",
   "execution_count": null,
   "metadata": {},
   "outputs": [],
   "source": [
    "data = {'email': ' YunSangJun!users.noreply.github.com', 'name': 'YunSangJun', 'source': 'git', 'username': 'YunSangJun'}\n",
    "url = \"http://localhost:8000/graphql/\"\n",
    "res = requests.post(url, json={'query': query, 'variables': data})"
   ]
  },
  {
   "cell_type": "code",
   "execution_count": null,
   "metadata": {},
   "outputs": [],
   "source": []
  }
 ],
 "metadata": {
  "kernelspec": {
   "display_name": "Python 3",
   "language": "python",
   "name": "python3"
  },
  "language_info": {
   "codemirror_mode": {
    "name": "ipython",
    "version": 3
   },
   "file_extension": ".py",
   "mimetype": "text/x-python",
   "name": "python",
   "nbconvert_exporter": "python",
   "pygments_lexer": "ipython3",
   "version": "3.8.5"
  }
 },
 "nbformat": 4,
 "nbformat_minor": 4
}
